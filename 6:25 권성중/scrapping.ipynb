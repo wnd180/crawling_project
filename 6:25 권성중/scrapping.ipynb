{
 "metadata": {
  "language_info": {
   "codemirror_mode": {
    "name": "ipython",
    "version": 3
   },
   "file_extension": ".py",
   "mimetype": "text/x-python",
   "name": "python",
   "nbconvert_exporter": "python",
   "pygments_lexer": "ipython3",
   "version": "3.8.5"
  },
  "orig_nbformat": 4,
  "kernelspec": {
   "name": "python3",
   "display_name": "Python 3.8.5 64-bit ('base': conda)"
  },
  "interpreter": {
   "hash": "4e0886b6c48a12a1d90e33bb4f23e87719d31daea62d0a43c2e9b5b9246db6b8"
  }
 },
 "nbformat": 4,
 "nbformat_minor": 2,
 "cells": [
  {
   "cell_type": "code",
   "execution_count": 29,
   "metadata": {},
   "outputs": [
    {
     "output_type": "stream",
     "name": "stdout",
     "text": [
      "                  Time                                               name  \\\n0  2021-06-25 15:26:14  California Gold Nutrition, Omega 800 제약 등급 피쉬 ...   \n1  2021-06-25 15:26:15  California Gold Nutrition, Omega 800 제약 등급 피쉬 ...   \n2  2021-06-25 15:26:15  California Gold Nutrition, LactoBif 프로바이오틱, 30...   \n\n  stock  \n0  재고 X  \n1  재고 X  \n2  재고 O  \n"
     ]
    }
   ],
   "source": [
    "import requests\n",
    "from bs4 import BeautifulSoup\n",
    "import openpyxl\n",
    "import pandas as pd\n",
    "import os\n",
    "import datetime\n",
    "\n",
    "# 열너비 조절\n",
    "\n",
    "# def AutoFitColumnSize(worksheet, columns=None, margin=2):\n",
    "#     for i, column_cells in enumerate(worksheet.columns):\n",
    "#         is_ok = False\n",
    "#         if columns == None:\n",
    "#             is_ok = True\n",
    "#         elif isinstance(columns, list) and i in columns:\n",
    "#             is_ok = True\n",
    "            \n",
    "#         if is_ok:\n",
    "#             length = max(len(str(cell.value)) for cell in column_cells)\n",
    "#             worksheet.column_dimensions[column_cells[0].column_letter].width = length + margin\n",
    "\n",
    "#     return worksheet\n",
    "\n",
    "# 현재 시간\n",
    "# current = datetime.datetime.now()\n",
    "# print(current)\n",
    "# current_time = current.replace(microsecond=0)\n",
    "# print(current_time)\n",
    "\n",
    "# 파일 위치에 엑셀파일 생성.\n",
    "# wb = openpyxl.Workbook() #workbook 생성\n",
    "# path = os.getcwd()\n",
    "# new_filename = path+'/result.xlsx'\n",
    "# wb.save(new_filename)\n",
    "\n",
    "# 리스트 생성\n",
    "\n",
    "# url_list = []\n",
    "# 먼저 3 개의 url\n",
    "# https://kr.iherb.com/pr/California-Gold-Nutrition-Omega-800-Pharmaceutical-Grade-Fish-Oil-80-EPA-DHA-Triglyceride-Form-1000-mg-90-Fish-Gelatin-Softgels/85180?rcode=CYT6453\n",
    "# https://kr.iherb.com/pr/California-Gold-Nutrition-Omega-800-Pharmaceutical-Grade-Fish-Oil-80-EPA-DHA-1-000-mg-30-Fish-Gelatin-Softgels/82845?rcode=CYT6453\n",
    "# https://kr.iherb.com/pr/California-Gold-Nutrition-LactoBif-Probiotics-30-Billion-CFU-60-Veggie-Capsules/64009?rec=iherbtest-home\n",
    "\n",
    "url_list = ['https://kr.iherb.com/pr/California-Gold-Nutrition-Omega-800-Pharmaceutical-Grade-Fish-Oil-80-EPA-DHA-Triglyceride-Form-1000-mg-90-Fish-Gelatin-Softgels/85180?rcode=CYT6453',\n",
    "'https://kr.iherb.com/pr/California-Gold-Nutrition-Omega-800-Pharmaceutical-Grade-Fish-Oil-80-EPA-DHA-1-000-mg-30-Fish-Gelatin-Softgels/82845?rcode=CYT6453',\n",
    "'https://kr.iherb.com/pr/California-Gold-Nutrition-LactoBif-Probiotics-30-Billion-CFU-60-Veggie-Capsules/64009?rec=iherbtest-home']\n",
    "stock_list = []\n",
    "time_list = []\n",
    "name_list = []\n",
    "\n",
    "# url 입력받기\n",
    "# for i in range (3):\n",
    "#     input_url = input(\"url 입력\")\n",
    "#     url_list.append(input_url)\n",
    "\n",
    "# 재고유무 확인\n",
    "for url in url_list:\n",
    "    response = requests.get(url)\n",
    "\n",
    "    if response.status_code == 200:\n",
    "        html = response.text\n",
    "        soup = BeautifulSoup(html, 'html.parser')\n",
    "        title = soup.select_one('#stock-status')\n",
    "        text = title.get_text()\n",
    "        val = \"품절\" in text\n",
    "        if val:\n",
    "            stock_list.append(\"재고 X\")\n",
    "        else:\n",
    "            stock_list.append(\"재고 O\")\n",
    "        \n",
    "        current = datetime.datetime.now()\n",
    "        current_time = current.replace(microsecond=0)\n",
    "        time_list.append(str(current_time))\n",
    "        name = soup.select_one('#name')\n",
    "        name_text = name.get_text()\n",
    "        name_list.append(name_text)\n",
    "\n",
    "    else:\n",
    "        print(response.status_code)\n",
    "\n",
    "dataframe = pd.DataFrame({\n",
    "    'Time':time_list, 'name': name_list,'stock':stock_list\n",
    "})\n",
    "\n",
    "print(dataframe)\n",
    "\n",
    "dataframe.to_excel('stocklist.xlsx')\n",
    "\n"
   ]
  },
  {
   "cell_type": "code",
   "execution_count": null,
   "metadata": {},
   "outputs": [],
   "source": []
  }
 ]
}