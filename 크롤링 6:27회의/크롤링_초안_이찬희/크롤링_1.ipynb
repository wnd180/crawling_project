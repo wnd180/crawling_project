{
 "cells": [
  {
   "cell_type": "code",
   "execution_count": null,
   "metadata": {},
   "outputs": [],
   "source": [
    "# ! pip install bs4"
   ]
  },
  {
   "cell_type": "code",
   "execution_count": 1,
   "metadata": {},
   "outputs": [
    {
     "name": "stdout",
     "output_type": "stream",
     "text": [
      "\n",
      "품절                \n"
     ]
    }
   ],
   "source": [
    "# Html 파일 요청 \n",
    "import requests\n",
    "from bs4 import BeautifulSoup\n",
    "\n",
    "# 얻을 상품의 페이지 \n",
    "Targeted_URL = 'https://kr.iherb.com/pr/California-Gold-Nutrition-Omega-800-Pharmaceutical-Grade-Fish-Oil-80-EPA-DHA-Triglyceride-Form-1000-mg-90-Fish-Gelatin-Softgels/85180'\n",
    "Requested01 = requests.get(Targeted_URL)\n",
    " \n",
    "\n",
    "#html 페이지 파싱 BeautifulSoup\n",
    "test_1 = BeautifulSoup(Requested01.text, 'html.parser')\n",
    "\n",
    "#class 속성값 추출 \n",
    "status1 = test_1.find('div', class_ ='text-danger stock-status-text')\n",
    "print(status1.get_text())"
   ]
  },
  {
   "cell_type": "code",
   "execution_count": 16,
   "metadata": {},
   "outputs": [
    {
     "name": "stdout",
     "output_type": "stream",
     "text": [
      "Collecting selenium\n",
      "  Downloading selenium-3.141.0-py2.py3-none-any.whl (904 kB)\n",
      "Requirement already satisfied: urllib3 in c:\\programdata\\anaconda3\\lib\\site-packages (from selenium) (1.24.1)\n",
      "Installing collected packages: selenium\n",
      "Successfully installed selenium-3.141.0\n"
     ]
    },
    {
     "name": "stderr",
     "output_type": "stream",
     "text": [
      "WARNING: Ignoring invalid distribution -pype1 (c:\\programdata\\anaconda3\\lib\\site-packages)\n",
      "WARNING: Ignoring invalid distribution -pype1 (c:\\programdata\\anaconda3\\lib\\site-packages)\n",
      "WARNING: Ignoring invalid distribution -pype1 (c:\\programdata\\anaconda3\\lib\\site-packages)\n",
      "WARNING: Ignoring invalid distribution -pype1 (c:\\programdata\\anaconda3\\lib\\site-packages)\n",
      "WARNING: Ignoring invalid distribution -pype1 (c:\\programdata\\anaconda3\\lib\\site-packages)\n",
      "WARNING: Ignoring invalid distribution -pype1 (c:\\programdata\\anaconda3\\lib\\site-packages)\n",
      "WARNING: Ignoring invalid distribution -pype1 (c:\\programdata\\anaconda3\\lib\\site-packages)\n",
      "WARNING: You are using pip version 21.1.1; however, version 21.1.2 is available.\n",
      "You should consider upgrading via the 'c:\\programdata\\anaconda3\\python.exe -m pip install --upgrade pip' command.\n"
     ]
    }
   ],
   "source": [
    "# ! pip install selenium"
   ]
  },
  {
   "cell_type": "code",
   "execution_count": 37,
   "metadata": {},
   "outputs": [],
   "source": [
    "from datetime import datetime"
   ]
  },
  {
   "cell_type": "code",
   "execution_count": 64,
   "metadata": {},
   "outputs": [],
   "source": [
    "from selenium import webdriver\n",
    "import time\n",
    "from bs4 import BeautifulSoup\n",
    "\n",
    "# selenium에서 사용할 웹 드라이버 절대 경로 정보\n",
    "chromedriver = 'C:/Users/이찬희/python2021/chromedriver.exe'\n",
    "\n",
    "# selenum의 webdriver에 앞서 설치한 chromedirver를 연동한다.\n",
    "driver = webdriver.Chrome(chromedriver)\n",
    "driver2 = webdriver.Chrome(chromedriver)\n",
    "driver3 = webdriver.Chrome(chromedriver)\n",
    "\n",
    "# 페이지의 url\n",
    "url = 'https://kr.iherb.com/pr/California-Gold-Nutrition-Omega-800-Pharmaceutical-Grade-Fish-Oil-80-EPA-DHA-Triglyceride-Form-1000-mg-90-Fish-Gelatin-Softgels/85180'\n",
    "url2 = 'https://kr.iherb.com/pr/California-Gold-Nutrition-Omega-800-Pharmaceutical-Grade-Fish-Oil-80-EPA-DHA-1-000-mg-30-Fish-Gelatin-Softgels/82845'\n",
    "url3 = 'https://kr.iherb.com/pr/California-Gold-Nutrition-LactoBif-Probiotics-30-Billion-CFU-60-Veggie-Capsules/64009?rec=iherbtest-home'\n",
    "\n",
    "# driver로 특정 페이지를 크롤링한다.\n",
    "driver.get(url)\n",
    "driver2.get(url2)\n",
    "driver3.get(url3)"
   ]
  },
  {
   "cell_type": "code",
   "execution_count": 65,
   "metadata": {},
   "outputs": [],
   "source": [
    "# 해당 페이지의 상태를 가져온다. \n",
    "locate= '#stock-status > div.text-danger.stock-status-text'\n",
    "locate2 = '#stock-status > div.text-danger.stock-status-text'\n",
    "locate3 = '#stock-status > strong'\n",
    "\n",
    "# 상품의 이름을 가져온다. \n",
    "n_locate = 'body > div.product-grouping-wrapper.defer-block > article > div.container.product-overview > div > section > div.inner-content > div > div > div.col-xs-24.col-md-14 > div:nth-child(1) > div > div > ul > li:nth-child(1) > strong'"
   ]
  },
  {
   "cell_type": "code",
   "execution_count": 66,
   "metadata": {},
   "outputs": [
    {
     "name": "stdout",
     "output_type": "stream",
     "text": [
      "오메가 800 제약 등급 피쉬 오일\n",
      "오메가 800 제약 등급 피쉬 오일\n",
      "LactoBif 프로바이오틱스\n"
     ]
    }
   ],
   "source": [
    "# name = driver.find_element_by_css_selector(n_locate).text\n",
    "# print(name)\n",
    "\n",
    "# name2 = driver2.find_element_by_css_selector(n_locate).text\n",
    "# print(name2)\n",
    "\n",
    "# name3 = driver3.find_element_by_css_selector(n_locate).text\n",
    "# print(name3)"
   ]
  },
  {
   "cell_type": "code",
   "execution_count": 67,
   "metadata": {},
   "outputs": [],
   "source": [
    "import openpyxl\n",
    "\n",
    "# 워크북(엑셀파일)을 새로 만듭니다.\n",
    "wb = openpyxl.Workbook()\n",
    "\n",
    "# 현재 활성화된 시트를 선택합니다.\n",
    "sheet = wb.active\n",
    "\n",
    "# 헤더 추가하기\n",
    "sheet.append([\"날짜\", \"시간\", \"재고여부\"])"
   ]
  },
  {
   "cell_type": "code",
   "execution_count": 71,
   "metadata": {},
   "outputs": [],
   "source": [
    "import openpyxl\n",
    "\n",
    "# 워크북(엑셀파일)을 새로 만듭니다.\n",
    "wb = openpyxl.Workbook()\n",
    "\n",
    "sheet1 = wb['Sheet']\n",
    "sheet1.title = name\n",
    "\n",
    "sheet2 = wb.create_sheet(name2)\n",
    "sheet3 = wb.create_sheet(name3)\n",
    "\n",
    "# 헤더 추가하기\n",
    "sheet1.append([\"날짜\", \"시간\", \"재고여부\"])\n",
    "sheet2.append([\"날짜\", \"시간\", \"재고여부\"])\n",
    "sheet3.append([\"날짜\", \"시간\", \"재고여부\"])\n",
    "\n",
    "#URL 추가하기\n",
    "sheet1.cell(row=1, column=4).value = url\n",
    "sheet2.cell(row=1, column=4).value = url2\n",
    "sheet3.cell(row=1, column=4).value = url3\n",
    "\n",
    "\n",
    "wb.save('재고확인.xlsx')"
   ]
  },
  {
   "cell_type": "code",
   "execution_count": 72,
   "metadata": {},
   "outputs": [
    {
     "name": "stdout",
     "output_type": "stream",
     "text": [
      "Error\n"
     ]
    }
   ],
   "source": [
    "wb = openpyxl.load_workbook('재고확인.xlsx')\n",
    "\n",
    "while True:  \n",
    "    try: \n",
    "        #날짜와 시간을 가져온다. \n",
    "        now = datetime.now()\n",
    "        date = \"%s년 %s월 %s일\" %(now.year, now.month, now.day)\n",
    "        hour = \"%s시 %s분\" %(now.hour, now.minute)\n",
    "\n",
    "        #상품의 재고 상황을 가져온다. \n",
    "        status = driver.find_element_by_css_selector(locate).text\n",
    "        status2 = driver2.find_element_by_css_selector(locate2).text\n",
    "        status3 = driver3.find_element_by_css_selector(locate3).text\n",
    "       \n",
    "        #각 시트에 시간과 상태를 저장한다. \n",
    "        sheet1 = wb.active\n",
    "        sheet1.append([date, hour, status])\n",
    "        \n",
    "        sheet2 = wb[name2+'1']\n",
    "        sheet2.append([date, hour, status2])\n",
    "        \n",
    "        sheet3 = wb[name3]\n",
    "        sheet3.append([date, hour, status3])\n",
    "        \n",
    "        #1분마다 정보를 갱신한다. \n",
    "        time.sleep(60) \n",
    "        \n",
    "        #파일에 저장한다. \n",
    "        wb.save('재고확인.xlsx') \n",
    "        \n",
    "    except:\n",
    "        print(\"Error\")\n",
    "        break"
   ]
  },
  {
   "cell_type": "code",
   "execution_count": null,
   "metadata": {},
   "outputs": [],
   "source": []
  }
 ],
 "metadata": {
  "kernelspec": {
   "display_name": "Python 3",
   "language": "python",
   "name": "python3"
  },
  "language_info": {
   "codemirror_mode": {
    "name": "ipython",
    "version": 3
   },
   "file_extension": ".py",
   "mimetype": "text/x-python",
   "name": "python",
   "nbconvert_exporter": "python",
   "pygments_lexer": "ipython3",
   "version": "3.7.1"
  }
 },
 "nbformat": 4,
 "nbformat_minor": 2
}
